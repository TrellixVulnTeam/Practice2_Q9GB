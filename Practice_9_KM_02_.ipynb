{
  "nbformat": 4,
  "nbformat_minor": 0,
  "metadata": {
    "colab": {
      "name": "Practice_7_KM-01_.ipynb",
      "provenance": [],
      "collapsed_sections": []
    },
    "kernelspec": {
      "name": "python3",
      "display_name": "Python 3"
    }
  },
  "cells": [
    {
      "cell_type": "markdown",
      "metadata": {
        "id": "FMqboNwO4rVs"
      },
      "source": [
        "# **Курс \"Програмування на мові Python\"**\n",
        "\n",
        "##### Викладачі:\n",
        "##### Борисенко Павло Борисович\n",
        "##### Щьоголєв Максим Олегович\n"
      ]
    },
    {
      "cell_type": "markdown",
      "metadata": {
        "id": "A2T6MigL5Z06"
      },
      "source": [
        "## **Практичне зайняття №9**\n",
        "\n",
        "### Тема: \"Лямбда-функції. Функції вищих порядків\""
      ]
    },
    {
      "cell_type": "markdown",
      "metadata": {
        "id": "cfCdgK2zXm7e"
      },
      "source": [
        "### **Завдання 1 (1 бал)**\n",
        "\n",
        "Продавець роздрібного товару влаштовує розпродаж. Для всіх товарів знижка однакова - 60%. Щоб вивісити нові цінники, продавець хоче скласти таблицю, в якій для кожного товару буде підрахована його нова вартість та сума знижки.\n",
        "\n",
        "Написати програму, яка буде генерувати таку таблицю. Вартість одиниць товарів до розпродажу подано у списку products_list. \n",
        "\n",
        "1. Для підрахунку невідомих значень повинні використовуватись вбудовані функції вищих порядків.\n",
        "\n",
        "2. Вартість з урахуванням знижки та суми знижок для кожного товару повинні зберігатись у двох окремих списках. Порядок товарів у нових списках повинен бути такий самий, як і в списку products_list.\n",
        "\n",
        "3. Кожне підраховане числове значення має бути округлене до сотих.\n",
        "\n",
        "4. Дані повинні виводитись у вигляді:\n",
        "\n",
        "**Discount table:**\n",
        "\n",
        "**29.25 11.7 17.55**\n",
        "\n",
        "**48.99 19.6 29.39**\n",
        "\n",
        "**...**\n",
        "\n",
        "\n",
        "products_list = [[29.25, 48.99, 99.98, 124.65, 214.30, 543.90, 799.85]]\n"
      ]
    },
    {
      "cell_type": "code",
      "metadata": {
        "id": "ifNX2M7LXm7f"
      },
      "source": [
        "products_list = [29.25, 48.99, 99.98, 124.65, 214.30, 543.90, 799.85]\n",
        "print('Discount table\\n: ')\n",
        "new_price = list(map(lambda x: round(x * 0.4, 2), products_list))\n",
        "discount = list(map(lambda x: round(x * 0.6, 2), products_list))\n",
        "for i in range(len(products_list)):\n",
        "    print(products_list[i], new_price[i], discount[i])"
      ],
      "execution_count": null,
      "outputs": []
    },
    {
      "source": [
        "### **Завдання 2 (2 бали)**\n",
        "\n",
        "Зазвичай рік має 365 днів. Однак у високосні роки додається ще один день - 29 лютого. Правила визначення високосного року такі:\n",
        "\n",
        "- Будь-який рік, що ділиться на 400 - високосний.\n",
        "\n",
        "- З тих років, що залишились, будь-який рік, що ділиться на 100 - **не** високосний.\n",
        "\n",
        "- З тих років, що залишились, будь-який рік, що ділиться на 4 - високосний.\n",
        "\n",
        "- Усі інші роки, що залишились - **не** високосні.\n",
        "\n",
        "1) Створіть функцію, в якій за допомогою вбудованих функцій вищих порядків будуть визначатися високосні роки серед перелічених років у списку years. Створена функція має повертати список високосних років.\n",
        "\n",
        "2) Створіть функцію вищих порядків, яка прийматиме на вхід попередню функцію та визначатиме кількість днів у місяці. Також функція повинна приймати на вхід ще 2 параметри: ціле число від 1 до 12 (місяць) та рік, як ціле чотирицифрове число. Ці значення корисувач має вводити з клавіатури. Перевірку введених даних слід виконувати поза межами функцій."
      ],
      "cell_type": "markdown",
      "metadata": {}
    },
    {
      "cell_type": "code",
      "execution_count": null,
      "metadata": {},
      "outputs": [],
      "source": [
        "import numpy as np\n",
        "import re\n",
        "import sys\n",
        "def leap_years():\n",
        "    years = list(np.arange(1900-1, 2020+1, 1))\n",
        "    first_check = list(filter(lambda x: x % 400 == 0, years))\n",
        "    years = list(set(years) - set(first_check))\n",
        "    second_check = list(filter(lambda x: x % 100 == 0, years))\n",
        "    years = list(set(years) - set(second_check))\n",
        "    third_check = list(filter(lambda x:  x % 4 == 0, years))\n",
        "\n",
        "    return sorted(first_check + third_check)\n",
        "\n",
        "def months(leap_years, month, year):\n",
        "    if month == 2:\n",
        "        if year in leap_years:\n",
        "            print('29')\n",
        "        else:\n",
        "            print('28')\n",
        "    elif month in [4, 6, 9, 11]:\n",
        "        print('30')\n",
        "    elif month in [1, 3, 5, 7, 8, 10, 12]:\n",
        "        print('31')\n",
        "\n",
        "def checker(pattern, text):\n",
        "    result = input(text)\n",
        "    if re.match(pattern, result):\n",
        "        return int(result)\n",
        "    else:\n",
        "        print('Неравильно введені данні')\n",
        "        sys.exit()\n",
        "pattern1 = re.compile('^\\d{4}$')\n",
        "pattern2 = re.compile('^[1-9]$|^1[0-2]$')\n",
        "month = checker(pattern2, 'Введіть місяць (числом від 1 до 12): ')\n",
        "year = checker(pattern1, 'Ввідіть рік (чотирьохзначним числом):')\n",
        "\n",
        "months(leap_years(), month , year)\n",
        "\n"
      ]
    }
  ]
}