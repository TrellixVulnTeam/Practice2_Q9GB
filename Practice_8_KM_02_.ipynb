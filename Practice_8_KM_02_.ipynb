{
  "nbformat": 4,
  "nbformat_minor": 0,
  "metadata": {
    "colab": {
      "name": "Practice_7_KM-01_.ipynb",
      "provenance": [],
      "collapsed_sections": []
    },
    "kernelspec": {
      "name": "python3",
      "display_name": "Python 3"
    }
  },
  "cells": [
    {
      "cell_type": "markdown",
      "metadata": {
        "id": "FMqboNwO4rVs"
      },
      "source": [
        "# **Курс \"Програмування на мові Python\"**\n",
        "\n",
        "##### Викладачі:\n",
        "##### Борисенко Павло Борисович\n",
        "##### Щьоголєв Максим Олегович\n"
      ]
    },
    {
      "cell_type": "markdown",
      "metadata": {
        "id": "A2T6MigL5Z06"
      },
      "source": [
        "## **Практичне зайняття №8**\n",
        "\n",
        "### Тема: \"Робота з функціями. Локальні та глобальні змінні\""
      ]
    },
    {
      "cell_type": "markdown",
      "metadata": {
        "id": "cfCdgK2zXm7e"
      },
      "source": [
        "### **Завдання 1 (3 бали)**\n",
        "\n",
        "**Підрахувати визначник матриці, використовуючи правило перестановок.**\n",
        "\n",
        "Функція random_matrix() призначена для створення квадратної матриці випадкових чисел. Її змінювати непотрібно.\n",
        "\n",
        "Приклад використання методу permutations() для створення списку перестановок також подається у комірці з кодом.\n",
        "\n",
        "1) Створити 3 функції: функцію створення списку перестановок, функцію підрахунку добутків та функцію підрахунку загальної суми.\n",
        "\n",
        "2) Кожна функція має супроводжуватись рядком документації, що буде коротко описувати її призначення.\n",
        "\n",
        "3) Розмірність квадратної матриці має вводитись користувачем з клавіатури. Підрахунки виконувати лише в тому разі, якщо користувач введе ціле додатне число.\n",
        "\n",
        "4) Загальний результат повинен підраховуватись за допомогою композиції функцій.\n",
        "\n",
        "За бажання можна перевірити правильність роботи програми за допомогою функції np.linalg.det(a)."
      ]
    },
    {
      "cell_type": "code",
      "metadata": {
        "id": "ifNX2M7LXm7f"
      },
      "source": [
        "import numpy as np\n",
        "import itertools\n",
        "n = int(input('Enter matrix size: '))\n",
        "def number_permutations(n):\n",
        "    if n == 0:\n",
        "        return 1\n",
        "    else:\n",
        "        return n*number_permutations(n - 1)\n",
        "print('permutations: ', number_permutations(n))\n",
        "def random_matrix(dim):\n",
        "    \"\"\"\n",
        "    The function generates dim x dim array of integers\n",
        "    between 0 and 10.\n",
        "    \"\"\"\n",
        "    matrix = np.random.randint(10, size = (dim, dim))\n",
        "    return matrix\n",
        "matrix = random_matrix(n)\n",
        "print(matrix)\n",
        "def permutations(n):\n",
        "    \"\"\"\n",
        "    The function generates all permutations\n",
        "    \"\"\"\n",
        "    num = \"\"\n",
        "    for i in range(n):\n",
        "        num += str(i+1)\n",
        "    t = list(itertools.permutations(num, n))\n",
        "    return t\n",
        "def multiply(n):\n",
        "    \"\"\"\n",
        "    The function count result of multiplication\n",
        "    \"\"\"\n",
        "    res = list(n)\n",
        "    a = 0\n",
        "    while res != [str(i+1) for i in range(len(res))]:\n",
        "        for i in range(len(res)-1):\n",
        "            if int(res[i]) > int(res[i+1]):\n",
        "                temp = res[i+1]\n",
        "                res[i+1] = res[i]\n",
        "                res[i] = temp\n",
        "                a += 1\n",
        "    result = 1\n",
        "    for j in range(len(res)):\n",
        "        result *= matrix[j][int(n[j])-1]\n",
        "    result *= ((-1) ** a)\n",
        "    return result\n",
        "def sum(n):\n",
        "    \"\"\"\n",
        "    The function count the sum\n",
        "    \"\"\"\n",
        "    result = 0\n",
        "    for i in n:\n",
        "       result += multiply(i)\n",
        "    print(result)\n",
        "    return result\n",
        "sum(permutations(n))\n"
      ],
      "execution_count": null,
      "outputs": []
    }
  ]
}