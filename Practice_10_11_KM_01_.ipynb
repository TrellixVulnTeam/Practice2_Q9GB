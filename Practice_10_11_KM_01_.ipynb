{
  "nbformat": 4,
  "nbformat_minor": 0,
  "metadata": {
    "colab": {
      "name": "Practice_10-11_KM_01_.ipynb",
      "provenance": [],
      "collapsed_sections": []
    },
    "kernelspec": {
      "name": "python3",
      "display_name": "Python 3"
    }
  },
  "cells": [
    {
      "cell_type": "markdown",
      "metadata": {
        "id": "FMqboNwO4rVs"
      },
      "source": [
        "# **Курс \"Програмування на мові Python\"**\n",
        "\n",
        "##### Викладачі:\n",
        "##### Борисенко Павло Борисович\n",
        "##### Щьоголєв Максим Олегович\n"
      ]
    },
    {
      "cell_type": "markdown",
      "metadata": {
        "id": "A2T6MigL5Z06"
      },
      "source": [
        "## **Практичні зайняття №10-11**\n",
        "\n",
        "### Тема: \"Ітератори та генератори. Декоратори\""
      ]
    },
    {
      "cell_type": "markdown",
      "metadata": {
        "id": "cfCdgK2zXm7e"
      },
      "source": [
        "### **Завдання 1 (2 бали)**\n",
        "\n",
        "Розрахуйте коефієнти розкладу біному Ньютона за допомогою генератора (https://uk.wikipedia.org/wiki/%D0%91%D1%96%D0%BD%D0%BE%D0%BC_%D0%9D%D1%8C%D1%8E%D1%82%D0%BE%D0%BD%D0%B0).\n",
        "\n",
        "1. Степінь многочлена користувач має вводити з клавіатури (невід'ємне ціле число).\n",
        "\n",
        "2. Програма має підраховувати біноміальні коефіцієнти для біномів усіх степенів, починаючи від 0 і закінчуючи тим, який ввів користувач.\n",
        "\n",
        "3. Коефіцієнти мають виводитись у вигляді трикутника Паскаля.\n",
        "\n",
        "Наприклад, якщо користувач введе число 5, програма має вивести результат:\n",
        "\n",
        "1\n",
        "\n",
        "1 1\n",
        "\n",
        "1 2 1\n",
        "\n",
        "1 3 3 1\n",
        "\n",
        "1 4 6 4 1\n",
        "\n",
        "1 5 10 10 5 1\n"
      ]
    },
    {
      "cell_type": "code",
      "metadata": {
        "id": "Bku8v9CjE_Qc"
      },
      "source": [
        "n = int(input(\"Enter polynomial degree to see the Pascal Triangle: \"))\n",
        "\n",
        "def coef(n, k):\n",
        "    m = 1\n",
        "    k = n - k if k > (n-k) else k\n",
        "    for i in range(k):\n",
        "        m = (m*(n-i))//(i+1)\n",
        "\n",
        "    return m\n",
        "\n",
        "def Pascal(n):\n",
        "    print(\"The Pascal Triangle for such polynomial is: \")\n",
        "    for line in range(n):\n",
        "        for i in range(line + 1):\n",
        "            print(coef(line, i), \" \", end=\"\")\n",
        "        print()\n",
        "\n",
        "\n",
        "Pascal(n+1)"
      ],
      "execution_count": null,
      "outputs": []
    },
    {
      "cell_type": "markdown",
      "metadata": {
        "id": "oqXwIz3iuPRe"
      },
      "source": [
        "### **Завдання 2 (4 бали)**\n",
        "\n",
        "Більшість друкованих книг (особливо це стосується книг у твердій палітурці) складаються із зошитів. Припустимо, що в друкарні текст друкується на листах паперу удвічі більших за звичайний книжковий формат. Потім ці листи складаються вдвічі, з них формуються зошити, які потім зшиваються у блок. Зшиті зошити зазвичай складаються з 8, 12 або 16 листів (відповідно 16, 24 або 32 сторінок) кожен.\n",
        "\n",
        "Розглянемо конкретний приклад. \n",
        "\n",
        "Припустимо, що кожен зшитий зошит нашої книги складається з 8 листів (16 сторінок). Якщо уявити великі листи, з яких потім складаються зошити, то на кожному таком листі буде по 4 сторінки книги. У нашій книзі таких великих листів буде 4. Розглянемо перший лист. З одного боку на ньому будуть надруковані сторінки 16 та 1, з іншого - 2 та 15. На другому листі з одного боку будуть надруковані сторінки 14 та 3, з іншого - 4 та 13.\n",
        "\n",
        "**Написати програму, яка визначатиме послідовність сторінок, що будуть надруковані на кожному великому листі.**\n",
        "\n",
        "1. Користувач має вводити з клавіатури три значення: кількість сторінок у книзі (не більше 1280), кількість сторінок у кожному зошиті цієї книги (потрібно буде обрати один з трьох варіантів: 16, 24 або 32) та параметр 0 або 1 (пояснення у п. 5).\n",
        "\n",
        "2. Зверніть увагу на те, що загальна кількість сторінок у книзі має бути кратною кількості сторінок у зошиті. Якщо користувач введе число, що не задовольняє цій умові, програма повинна припинити роботу або запропонувати користувачеві ввесте інше значення. Зауважте також, що 1280 не ділиться на 24.\n",
        "\n",
        "3. Зверніть увагу на те, що на великих листах поворот аркуша відбувається за коротким краєм. Отже, якщо з одного боку аркуша надруковано сторінки 16 та 1, то з іншого 2 та 15 (а не 15, 2), якщо дивитись зліва направо.\n",
        "\n",
        "4. Функція, яка визначатиме послідовність книжкових сторінок, має виводити на екран рядок за рядком номери сторінок кожного зошита, а також кількість зошитів у книзі.\n",
        "\n",
        "5. Створіть функцію-декоратор, яка прийматиме на вхід параметр 0 або 1, конвертований у False або True відповідно, та навісьте його на попередню функцію. Якщо параметр дорівнює False, додаткові функції декоратора не повинні виконуватись, тобто має виконатись лише функція з п. 4. Декоратор повинен створювати список усіх сторінок у потрібній послідовності, причому номери сторінок кожного зошита мають зберігатись в окремому вкладеному списку. Для 16-сторінкового зошита список повинен мати вигляд:\n",
        "\n",
        "`[[16, 1, 2, 15, 14, 3, 4, 13, ..., 10, 7, 8, 9], [32, 17, 18, 31, ...], ... ]`\n",
        "\n",
        "**Бонусне завдання (за бажанням)**\n",
        "\n",
        "6. Замість функції з п. 4 створіть генератор, який буде визначати послідовність книжкових сторінок для кожного зошита. Ці рядки можна потім вивести або у циклі, або за допомогою функції next(). Функція-декоратор має працювати з цим генератором так само, як і зі звичайною функцією."
      ]
    },
    {
      "cell_type": "code",
      "metadata": {
        "id": "yiRr2CqMWxLA"
      },
      "source": [
        "pages_count = int(input(\"Enter number of pages in the book (should be <= 1280): \"))\n",
        "while True:\n",
        "    if pages_count > 1280:\n",
        "        print(\"Your number should be less ot equal to 1280!\")\n",
        "        pages_count = int(input(\"Enter number of pages in the book (should be <= 1280) : \"))\n",
        "    break\n",
        "notebook_pages_count = int(input(\"Enter number of pages in one notebook (should be 16, 24 or 32): \"))\n",
        "while True:\n",
        "    if notebook_pages_count not in [16,24,32]:\n",
        "        print(\"Your number should be 16, 24 or 32!\")\n",
        "        pages_count = int(input(\"Enter number of pages in one notebook (should be 16, 24 or 32): \"))\n",
        "    break\n",
        "\n",
        "parametr = int(input(\"Enter 0 or 1: \"))\n",
        "while True:\n",
        "    if parametr not in [0,1]:\n",
        "        print(\"Your number should be either 1 or 0!\")\n",
        "        parametr = int(input(\"Enter 0 or 1: \"))\n",
        "    break\n",
        "\n",
        "def decorator1(pages_count, notebook_pages_count, parametr):\n",
        "    def decorator(func):\n",
        "        def wrapper(pages_count, notebook_pages_count):\n",
        "            result = func(pages_count, notebook_pages_count)\n",
        "            if parametr:\n",
        "                print(result)\n",
        "            else:\n",
        "                for line in result:\n",
        "                    for el in line:\n",
        "                        print(el, end=' ')\n",
        "                    print()\n",
        "                \n",
        "                print(f'Notebooks count = {pages_count//notebook_pages_count}')\n",
        "        return wrapper\n",
        "\n",
        "    return decorator\n",
        "\n",
        "@decorator1(pages_count, notebook_pages_count, parametr)\n",
        "def res(pages_count, notebook_pages_count):\n",
        "    notebooks_count = pages_count // notebook_pages_count\n",
        "\n",
        "    result = []\n",
        "    for i in range(1, notebooks_count+1):\n",
        "        notebook_pages = []\n",
        "        for j in range(0, notebook_pages_count//2, 2):\n",
        "            notebook_pages.append((notebook_pages_count-j)*i)\n",
        "            notebook_pages.append((1+j)+(i-1)*notebook_pages_count)\n",
        "            notebook_pages.append((2+j)+(i-1)*notebook_pages_count)\n",
        "            notebook_pages.append((notebook_pages_count-1-j)*i)\n",
        "        result.append(notebook_pages)\n",
        "\n",
        "    return result\n",
        "\n",
        "\n",
        "while pages_count % notebook_pages_count != 0:\n",
        "    print('Your number of pages in the book should be dividable by number of pages in one notebook!')\n",
        "    pages_count = int(input('Enter new number of pages: '))\n",
        "\n",
        "res(pages_count, notebook_pages_count)"
      ],
      "execution_count": null,
      "outputs": []
    }
  ]
}